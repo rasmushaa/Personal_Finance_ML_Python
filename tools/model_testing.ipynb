{
 "cells": [
  {
   "cell_type": "markdown",
   "metadata": {},
   "source": [
    "# Add src folder to Python path"
   ]
  },
  {
   "cell_type": "code",
   "execution_count": 1,
   "metadata": {},
   "outputs": [],
   "source": [
    "import sys\n",
    "import os\n",
    "ROOT_DIR = os.path.realpath(os.path.join(os.path.abspath(''), '..'))\n",
    "FOLDER_PATH = os.path.join(ROOT_DIR, \"src/\")\n",
    "sys.path.append(FOLDER_PATH)"
   ]
  },
  {
   "cell_type": "code",
   "execution_count": 9,
   "metadata": {},
   "outputs": [],
   "source": [
    "from app import Application\n",
    "import pandas as pd\n",
    "import numpy as np\n",
    "import joblib\n",
    "import timeit\n",
    "from pprint import pprint\n",
    "from sklearn.model_selection import train_test_split, RandomizedSearchCV\n",
    "from sklearn.feature_selection import SelectKBest, chi2\n",
    "from sklearn.feature_extraction.text import CountVectorizer\n",
    "from sklearn.pipeline import Pipeline\n",
    "from sklearn.compose import ColumnTransformer\n",
    "from sklearn.ensemble import RandomForestClassifier\n",
    "from sklearn.metrics import accuracy_score"
   ]
  },
  {
   "cell_type": "markdown",
   "metadata": {},
   "source": [
    "# Parameters\n",
    "Trained model can be tested manually in this module.\n",
    "Data is loaded from the path and transformed to used format\n",
    "in the functionality.DataFrame.load_data(), which may be\n",
    "extended to accept new file formats for your own purposes.\n",
    "LIMIT shows you how curtain the model is about its predictions"
   ]
  },
  {
   "cell_type": "code",
   "execution_count": 10,
   "metadata": {},
   "outputs": [],
   "source": [
    "DATA_PATH   = \"/Users/rasmus/Ohjelmointi/visual_studio/AI_finance/tools/testing_file.csv\"\n",
    "MODEL_NAME  = \"trained_test_model.pkl\"\n",
    "LIMIT       = 0.8"
   ]
  },
  {
   "cell_type": "code",
   "execution_count": 11,
   "metadata": {},
   "outputs": [
    {
     "name": "stdout",
     "output_type": "stream",
     "text": [
      "Loaded model: trained_test_model.pkl\n",
      "\n"
     ]
    }
   ],
   "source": [
    "with open(MODEL_NAME , 'rb') as file:\n",
    "    model_pipeline = joblib.load(file)\n",
    "    print(\"Loaded model: \" + MODEL_NAME + \"\\n\")"
   ]
  },
  {
   "cell_type": "markdown",
   "metadata": {},
   "source": [
    "# Used dataset"
   ]
  },
  {
   "cell_type": "code",
   "execution_count": 12,
   "metadata": {},
   "outputs": [
    {
     "name": "stdout",
     "output_type": "stream",
     "text": [
      "Local path: /Users/rasmus/Ohjelmointi/visual_studio/AI_finance/tools/testing_file.csv\n",
      "Data loaded from AIDF-file\n",
      "Used separator: (,) endoding: ISO-8859-1\n",
      "\n",
      "Shape of the DataFrame: (112, 4)\n",
      "         Date                   Receiver  Amount       Category\n",
      "0  2022-10-31                    DNA Oyj  -18.90     TECHNOLOGY\n",
      "1  2022-10-31                HSL Mobiili   -2.50      COMMUTING\n",
      "2  2022-10-31                DISNEY PLUS   -8.99  ENTERTAINMENT\n",
      "3  2022-10-31                HSL Mobiili   -2.50      COMMUTING\n",
      "4  2022-10-31        K-Supermarket Derby  -13.24           FOOD\n",
      "5  2022-10-31                KANRESTA OY   -3.30           FOOD\n",
      "6  2022-10-31  K-CITYMARKET ESPOO LEPPAV  -60.98           FOOD\n",
      "7  2022-10-30       CENTAURUS FINLAND KY -982.00         LIVING\n",
      "8  2022-10-28                     KIASMA  -18.00           FOOD\n",
      "9  2022-10-28            C HOTEL HELSINK  -15.00           FOOD\n",
      "\n",
      "Rows with NaNs:\n",
      "0\n",
      "\n",
      "Rows with Empty strings:\n",
      "2\n",
      "\n",
      "\n"
     ]
    }
   ],
   "source": [
    "app = Application()\n",
    "df = app.data_frame\n",
    "df.load_data(DATA_PATH)\n",
    "print(df.get_info_str())"
   ]
  },
  {
   "cell_type": "markdown",
   "metadata": {},
   "source": [
    "# Dataset after remocing nulls and empty strings"
   ]
  },
  {
   "cell_type": "code",
   "execution_count": 13,
   "metadata": {},
   "outputs": [
    {
     "name": "stdout",
     "output_type": "stream",
     "text": [
      "Local path: /Users/rasmus/Ohjelmointi/visual_studio/AI_finance/tools/testing_file.csv\n",
      "Data loaded from AIDF-file\n",
      "Used separator: (,) endoding: ISO-8859-1\n",
      "\n",
      "Shape of the DataFrame: (110, 4)\n",
      "         Date                   Receiver  Amount       Category\n",
      "0  2022-10-31                    DNA Oyj  -18.90     TECHNOLOGY\n",
      "1  2022-10-31                HSL Mobiili   -2.50      COMMUTING\n",
      "2  2022-10-31                DISNEY PLUS   -8.99  ENTERTAINMENT\n",
      "3  2022-10-31                HSL Mobiili   -2.50      COMMUTING\n",
      "4  2022-10-31        K-Supermarket Derby  -13.24           FOOD\n",
      "5  2022-10-31                KANRESTA OY   -3.30           FOOD\n",
      "6  2022-10-31  K-CITYMARKET ESPOO LEPPAV  -60.98           FOOD\n",
      "7  2022-10-30       CENTAURUS FINLAND KY -982.00         LIVING\n",
      "8  2022-10-28                     KIASMA  -18.00           FOOD\n",
      "9  2022-10-28            C HOTEL HELSINK  -15.00           FOOD\n",
      "\n",
      "Rows with NaNs:\n",
      "0\n",
      "\n",
      "Rows with Empty strings:\n",
      "0\n",
      "\n",
      "\n"
     ]
    }
   ],
   "source": [
    "df.remove_empties()\n",
    "print(df.get_info_str())"
   ]
  },
  {
   "cell_type": "markdown",
   "metadata": {},
   "source": [
    "# Actual testing data, new to the model"
   ]
  },
  {
   "cell_type": "code",
   "execution_count": 14,
   "metadata": {},
   "outputs": [
    {
     "name": "stdout",
     "output_type": "stream",
     "text": [
      "Shape of the X: (110, 2) (Rows, Columns)\n",
      "                    Receiver  Amount\n",
      "0                    DNA Oyj  -18.90\n",
      "1                HSL Mobiili   -2.50\n",
      "2                DISNEY PLUS   -8.99\n",
      "3                HSL Mobiili   -2.50\n",
      "4        K-Supermarket Derby  -13.24\n",
      "5                KANRESTA OY   -3.30\n",
      "6  K-CITYMARKET ESPOO LEPPAV  -60.98\n",
      "7       CENTAURUS FINLAND KY -982.00\n",
      "8                     KIASMA  -18.00\n",
      "9            C HOTEL HELSINK  -15.00\n"
     ]
    }
   ],
   "source": [
    "real_data = df.get_df()\n",
    "X = real_data.iloc[:, [1, 2]]\n",
    "print('Shape of the X: ' + str(X.shape) + \" (Rows, Columns)\")\n",
    "print(X.head(10))"
   ]
  },
  {
   "cell_type": "markdown",
   "metadata": {},
   "source": [
    "# Validating classifier"
   ]
  },
  {
   "cell_type": "code",
   "execution_count": 16,
   "metadata": {},
   "outputs": [
    {
     "name": "stdout",
     "output_type": "stream",
     "text": [
      "\n",
      "\n",
      "\n",
      "     Date:                           Receiver:    Amount:     Prediction:\n",
      "2022-10-31                             DNA Oyj     -18.90                \n",
      "2022-10-31                         HSL Mobiili      -2.50       COMMUTING\n",
      "2022-10-31                         DISNEY PLUS      -8.99                \n",
      "2022-10-31                         HSL Mobiili      -2.50       COMMUTING\n",
      "2022-10-31                 K-Supermarket Derby     -13.24            FOOD\n",
      "2022-10-31                         KANRESTA OY      -3.30            FOOD\n",
      "2022-10-31           K-CITYMARKET ESPOO LEPPAV     -60.98                \n",
      "2022-10-30                CENTAURUS FINLAND KY    -982.00          LIVING\n",
      "2022-10-28                              KIASMA     -18.00            FOOD\n",
      "2022-10-28                     C HOTEL HELSINK     -15.00            FOOD\n",
      "2022-10-27                        PAYTRAIL OYJ     -15.00                \n",
      "2022-10-27                        VFI*Baoyu Oy     -12.50   ENTERTAINMENT\n",
      "2022-10-25                     Espoon kaupunki      -6.00            FOOD\n",
      "2022-10-24         MOBILEPAY KATARIINA SEPPÄLÄ      20.00    OTHER INCOME\n",
      "2022-10-24               K-supermarket Tapiola     -34.77            FOOD\n",
      "2022-10-24                                 H&M     -60.28                \n",
      "2022-10-24              M Room Panorama Tower,    -399.00         HOBBIES\n",
      "2022-10-24                      APPLE.COM/BILL      -9.99                \n",
      "2022-10-22                           KLARNA AB    -152.43          HEALTH\n",
      "2022-10-19           ALKO HKI KANNELMAKI PRISM     -22.49   ENTERTAINMENT\n",
      "2022-10-19             TOKMANNI HELSINKI KAARI     -39.95        CLOTHING\n",
      "2022-10-19                 K-market Maununneva      -1.79            FOOD\n",
      "2022-10-19                 PAYPAL *ETSYIRELAND      -4.98            FOOD\n",
      "2022-10-18                    K-Market Perkkaa      -5.28            FOOD\n",
      "2022-10-18                          CHF*PNTpay      -5.00            FOOD\n",
      "2022-10-17                       FINNKINO ITIS      -3.78            FOOD\n",
      "2022-10-17                         NISSEN ITIS     -15.90            FOOD\n",
      "2022-10-17                        PRISMA SELLO     -73.79            FOOD\n",
      "2022-10-17                 PAYPAL *ETSYIRELAND      -6.10            FOOD\n",
      "2022-10-17                         HSL Mobiili     -52.30       COMMUTING\n",
      "2022-10-16                    VERKKOKAUPPA.COM    -109.98                \n",
      "2022-10-15                        PAYTRAIL OYJ    -409.00                \n",
      "2022-10-15 POLYTEKNIKKOJEN PARTIOKLUBI TEEPAKKI     -12.00                \n",
      "2022-10-14 TEKNIIKAN AKATEEMISET, 00520, HELSIN     -46.12                \n",
      "2022-10-14                         VEIKKAUS OY    2667.82    OTHER INCOME\n",
      "2022-10-13                ADOBE PHOTOGPHY PLAN     -12.39                \n",
      "2022-10-12         MOBILEPAY KATARIINA SEPPÄLÄ      30.00    OTHER INCOME\n",
      "2022-10-12                        PRISMA SELLO     -40.92            FOOD\n",
      "2022-10-10                       VATTENFALL OY     -29.84                \n",
      "2022-10-08                    VERKKOKAUPPA.COM   -1048.98      TECHNOLOGY\n",
      "2022-10-07 POLYTEKNIKKOJEN PARTIOKLUBI TEEPAKKI      15.94    OTHER INCOME\n",
      "2022-10-07                SEPPÄLÄ ANTTI SAMULI     100.00    OTHER INCOME\n",
      "2022-10-06                 K-Supermarket Derby     -17.49            FOOD\n",
      "2022-10-06                 K-Supermarket Derby      -0.24            FOOD\n",
      "2022-10-06                        MOB.PAY*KIRA    -175.00                \n",
      "2022-10-05                        PAYTRAIL OYJ     -19.90                \n",
      "2022-10-05    NORDNET BANK AB SUOMEN SIVULIIKE     500.00    OTHER INCOME\n",
      "2022-10-05                   POWER SELLO ESPOO      -5.90            FOOD\n",
      "2022-10-05    HAAPANIEMI RASMUS ALEKSI RIKHARD     400.00    OTHER INCOME\n",
      "2022-10-04              SEPPÄLÄ SEIJA TUULIKKI      25.00    OTHER INCOME\n",
      "2022-10-04                             DNA Oyj     -21.34                \n",
      "2022-10-03                        PAYTRAIL OYJ     -21.98                \n",
      "2022-10-03                         HSL Mobiili      -2.50       COMMUTING\n",
      "2022-10-03                         HSL Mobiili      -2.50       COMMUTING\n",
      "2022-10-03                      CLAS OHLSON 50     -37.89                \n",
      "2022-10-03                     CAFE KUUSIJARVI     -13.00                \n",
      "2022-10-03                 K-Supermarket Derby      -0.95            FOOD\n",
      "2022-10-03                     CAFE KUUSIJARVI      -2.80                \n",
      "2022-10-03                 ALEPA OTANIEMI UUSI      -8.00            FOOD\n",
      "2022-10-03                          CHF*PNTpay      -5.00            FOOD\n",
      "2022-10-03                          CHF*PNTpay      -5.00            FOOD\n",
      "2022-10-03           NETFLIX INTERNATIONAL B.V     -15.99      TECHNOLOGY\n",
      "2022-10-03                 K-Supermarket Derby     -63.45            FOOD\n",
      "2022-10-02                CENTAURUS FINLAND KY    -982.00          LIVING\n",
      "2022-10-12                        PRISMA SELLO     -40.92            FOOD\n",
      "2022-10-10                       VATTENFALL OY     -29.84                \n",
      "2022-10-08                    VERKKOKAUPPA.COM   -1048.98      TECHNOLOGY\n",
      "2022-10-07 POLYTEKNIKKOJEN PARTIOKLUBI TEEPAKKI      15.94    OTHER INCOME\n",
      "2022-10-07                SEPPÄLÄ ANTTI SAMULI     100.00    OTHER INCOME\n",
      "2022-10-06                 K-Supermarket Derby     -17.49            FOOD\n",
      "2022-10-06                 K-Supermarket Derby      -0.24            FOOD\n",
      "2022-10-06                        MOB.PAY*KIRA    -175.00                \n",
      "2022-10-05                        PAYTRAIL OYJ     -19.90                \n",
      "2022-10-05    NORDNET BANK AB SUOMEN SIVULIIKE     500.00    OTHER INCOME\n",
      "2022-10-05                   POWER SELLO ESPOO      -5.90            FOOD\n",
      "2022-10-05    HAAPANIEMI RASMUS ALEKSI RIKHARD     400.00    OTHER INCOME\n",
      "2022-10-04              SEPPÄLÄ SEIJA TUULIKKI      25.00    OTHER INCOME\n",
      "2022-10-04                             DNA Oyj     -21.34                \n",
      "2022-10-03                        PAYTRAIL OYJ     -21.98                \n",
      "2022-10-03                         HSL Mobiili      -2.50       COMMUTING\n",
      "2022-10-03                         HSL Mobiili      -2.50       COMMUTING\n",
      "2022-10-03                      CLAS OHLSON 50     -37.89                \n",
      "2022-10-03                     CAFE KUUSIJARVI     -13.00                \n",
      "2022-10-03                 K-Supermarket Derby      -0.95            FOOD\n",
      "2022-10-03                     CAFE KUUSIJARVI      -2.80                \n",
      "2022-10-03                 ALEPA OTANIEMI UUSI      -8.00            FOOD\n",
      "2022-10-03                          CHF*PNTpay      -5.00            FOOD\n",
      "2022-10-03                          CHF*PNTpay      -5.00            FOOD\n",
      "2022-10-03           NETFLIX INTERNATIONAL B.V     -15.99      TECHNOLOGY\n",
      "2022-10-03                 K-Supermarket Derby     -63.45            FOOD\n",
      "2022-10-02                CENTAURUS FINLAND KY    -982.00          LIVING\n",
      "2022-10-31                 K-Supermarket Derby     -13.24            FOOD\n",
      "2022-10-31                         KANRESTA OY      -3.30            FOOD\n",
      "2022-10-31           K-CITYMARKET ESPOO LEPPAV     -60.98                \n",
      "2022-10-30                CENTAURUS FINLAND KY    -982.00          LIVING\n",
      "2022-10-28                              KIASMA     -18.00            FOOD\n",
      "2022-10-28                     C HOTEL HELSINK     -15.00            FOOD\n",
      "2022-10-27                        PAYTRAIL OYJ     -15.00                \n",
      "2022-10-27                        VFI*Baoyu Oy     -12.50   ENTERTAINMENT\n",
      "2022-10-25                     Espoon kaupunki      -6.00            FOOD\n",
      "2022-10-24         MOBILEPAY KATARIINA SEPPÄLÄ      20.00    OTHER INCOME\n",
      "2022-10-24               K-supermarket Tapiola     -34.77            FOOD\n",
      "2022-10-24                                 H&M     -60.28                \n",
      "2022-10-24              M Room Panorama Tower,    -399.00         HOBBIES\n",
      "2022-10-24                      APPLE.COM/BILL      -9.99                \n",
      "2022-10-22                           KLARNA AB    -152.43          HEALTH\n",
      "2022-10-19           ALKO HKI KANNELMAKI PRISM     -22.49   ENTERTAINMENT\n",
      "2022-10-19             TOKMANNI HELSINKI KAARI     -39.95        CLOTHING\n",
      "2022-10-19                 K-market Maununneva      -1.79            FOOD\n",
      "2022-10-19                 PAYPAL *ETSYIRELAND      -4.98            FOOD\n",
      "\n",
      "\n",
      "Predicted: 110 types and threshold was: 0.8\n",
      "Total running time of predictions: 0.019362 seconds.\n"
     ]
    }
   ],
   "source": [
    "start   = timeit.default_timer()\n",
    "y_pred  = model_pipeline.predict(X)\n",
    "probas  = model_pipeline.predict_proba(X)\n",
    "stop    = timeit.default_timer()\n",
    "\n",
    "print(\"\\n\\n\")\n",
    "print(\"     Date:                           Receiver:    Amount:     Prediction:\")\n",
    "\n",
    "for i in range(len(y_pred)):    \n",
    "    category = y_pred[i]\n",
    "    if probas[i].max() < LIMIT:\n",
    "        category = \" \"   \n",
    "    print(\"%10s %35s %10.2f %15s\" % (real_data.iloc[i][0], \n",
    "                                     real_data.iloc[i][1], \n",
    "                                     real_data.iloc[i][2], \n",
    "                                     category))\n",
    "    \n",
    "print(\"\\n\\nPredicted: {:d} cases and threshold was: {:0.1f}\".format(len(y_pred), LIMIT))\n",
    "print(\"Total running time of predictions: {:f} seconds.\".format(stop - start))"
   ]
  }
 ],
 "metadata": {
  "kernelspec": {
   "display_name": "Python 3.9.12 ('rosetta_3.9')",
   "language": "python",
   "name": "python3"
  },
  "language_info": {
   "codemirror_mode": {
    "name": "ipython",
    "version": 3
   },
   "file_extension": ".py",
   "mimetype": "text/x-python",
   "name": "python",
   "nbconvert_exporter": "python",
   "pygments_lexer": "ipython3",
   "version": "3.9.12"
  },
  "orig_nbformat": 4,
  "vscode": {
   "interpreter": {
    "hash": "499258375c657644398e673091f336b50aab225256cccac09af66224bee535ad"
   }
  }
 },
 "nbformat": 4,
 "nbformat_minor": 2
}
