{
 "cells": [
  {
   "cell_type": "markdown",
   "metadata": {},
   "source": [
    "# Add src folder to Python path"
   ]
  },
  {
   "cell_type": "code",
   "execution_count": 1,
   "metadata": {},
   "outputs": [],
   "source": [
    "import sys\n",
    "import os\n",
    "ROOT_DIR = os.path.realpath(os.path.join(os.path.abspath(''), '..'))\n",
    "FOLDER_PATH = os.path.join(ROOT_DIR, \"src/\")\n",
    "sys.path.append(FOLDER_PATH)"
   ]
  },
  {
   "cell_type": "code",
   "execution_count": 2,
   "metadata": {},
   "outputs": [],
   "source": [
    "from app import Application\n",
    "import pandas as pd\n",
    "import numpy as np\n",
    "import joblib\n",
    "import timeit\n",
    "from pprint import pprint\n",
    "from sklearn.model_selection import train_test_split, RandomizedSearchCV\n",
    "from sklearn.feature_selection import SelectKBest, chi2\n",
    "from sklearn.feature_extraction.text import CountVectorizer\n",
    "from sklearn.pipeline import Pipeline\n",
    "from sklearn.compose import ColumnTransformer\n",
    "from sklearn.ensemble import RandomForestClassifier\n",
    "from sklearn.metrics import accuracy_score"
   ]
  },
  {
   "cell_type": "markdown",
   "metadata": {},
   "source": [
    "# Parameters\n",
    "Trained model can be tested manually in this module.\n",
    "Data is loaded from the path and transformed to used format\n",
    "in the functionality.DataFrame.load_data(), which may be\n",
    "extended to accept new file formats for your own purposes.\n",
    "LIMIT shows you how curtain the model is about its predictions"
   ]
  },
  {
   "cell_type": "code",
   "execution_count": 3,
   "metadata": {},
   "outputs": [],
   "source": [
    "DATA_PATH   = \"/Users/rasmus/Ohjelmointi/visual_studio/AI_finance/tools/testing_file.csv\"\n",
    "MODEL_NAME  = \"trained_test_model.pkl\"\n",
    "LIMIT       = 0.8"
   ]
  },
  {
   "cell_type": "code",
   "execution_count": 4,
   "metadata": {},
   "outputs": [
    {
     "name": "stdout",
     "output_type": "stream",
     "text": [
      "Loaded model: trained_test_model.pkl\n",
      "\n"
     ]
    }
   ],
   "source": [
    "with open(MODEL_NAME , 'rb') as file:\n",
    "    model_pipeline = joblib.load(file)\n",
    "    print(\"Loaded model: \" + MODEL_NAME + \"\\n\")"
   ]
  },
  {
   "cell_type": "markdown",
   "metadata": {},
   "source": [
    "# Used dataset"
   ]
  },
  {
   "cell_type": "code",
   "execution_count": 5,
   "metadata": {},
   "outputs": [
    {
     "name": "stdout",
     "output_type": "stream",
     "text": [
      "Local path: /Users/rasmus/Ohjelmointi/visual_studio/AI_finance/tools/testing_file.csv\n",
      "Data loaded from AIDF-file\n",
      "Used separator: (,) endoding: utf-8\n",
      "\n",
      "Shape of the DataFrame: (146, 4)\n",
      "         Date              Receiver  Amount   Category\n",
      "0  2022-07-31          VR-YHTYMÄ OY  -49.90  COMMUTING\n",
      "1  2022-07-28  DRESSMANN 707 KAMPPI  -19.95   CLOTHING\n",
      "2  2022-07-28                   H&M  -19.99   CLOTHING\n",
      "3  2022-07-27          VR-YHTYMÄ OY  -27.00  COMMUTING\n",
      "4  2022-07-27     STOCKMANN TAPIOLA  -53.40   CLOTHING\n",
      "5  2022-07-25            BESTSELLER  -79.99   CLOTHING\n",
      "6  2022-07-25      NISSEN ISO OMENA   -7.90     HEALTH\n",
      "7  2022-07-25      PRISMA ISO OMENA  -34.66       FOOD\n",
      "8  2022-07-25          YA Iso Omena  -11.44     HEALTH\n",
      "9  2022-07-25   ALEPA OTANIEMI UUSI  -14.56       FOOD\n",
      "\n",
      "Rows with NaNs:\n",
      "0\n",
      "\n",
      "Rows with Empty strings:\n",
      "2\n",
      "\n",
      "\n"
     ]
    }
   ],
   "source": [
    "app = Application()\n",
    "df = app.data_frame\n",
    "df.load_data(DATA_PATH)\n",
    "print(df.get_info_str())"
   ]
  },
  {
   "cell_type": "markdown",
   "metadata": {},
   "source": [
    "# Dataset after remocing nulls and empty strings"
   ]
  },
  {
   "cell_type": "code",
   "execution_count": 6,
   "metadata": {},
   "outputs": [
    {
     "name": "stdout",
     "output_type": "stream",
     "text": [
      "Local path: /Users/rasmus/Ohjelmointi/visual_studio/AI_finance/tools/testing_file.csv\n",
      "Data loaded from AIDF-file\n",
      "Used separator: (,) endoding: utf-8\n",
      "\n",
      "Shape of the DataFrame: (144, 4)\n",
      "         Date              Receiver  Amount   Category\n",
      "0  2022-07-31          VR-YHTYMÄ OY  -49.90  COMMUTING\n",
      "1  2022-07-28  DRESSMANN 707 KAMPPI  -19.95   CLOTHING\n",
      "2  2022-07-28                   H&M  -19.99   CLOTHING\n",
      "3  2022-07-27          VR-YHTYMÄ OY  -27.00  COMMUTING\n",
      "4  2022-07-27     STOCKMANN TAPIOLA  -53.40   CLOTHING\n",
      "5  2022-07-25            BESTSELLER  -79.99   CLOTHING\n",
      "6  2022-07-25      NISSEN ISO OMENA   -7.90     HEALTH\n",
      "7  2022-07-25      PRISMA ISO OMENA  -34.66       FOOD\n",
      "8  2022-07-25          YA Iso Omena  -11.44     HEALTH\n",
      "9  2022-07-25   ALEPA OTANIEMI UUSI  -14.56       FOOD\n",
      "\n",
      "Rows with NaNs:\n",
      "0\n",
      "\n",
      "Rows with Empty strings:\n",
      "0\n",
      "\n",
      "\n"
     ]
    }
   ],
   "source": [
    "df.remove_empties()\n",
    "print(df.get_info_str())"
   ]
  },
  {
   "cell_type": "markdown",
   "metadata": {},
   "source": [
    "# Actual testing data, new to the model"
   ]
  },
  {
   "cell_type": "code",
   "execution_count": 7,
   "metadata": {},
   "outputs": [
    {
     "name": "stdout",
     "output_type": "stream",
     "text": [
      "Shape of the X: (144, 2) (Rows, Columns)\n",
      "               Receiver  Amount\n",
      "0          VR-YHTYMÄ OY  -49.90\n",
      "1  DRESSMANN 707 KAMPPI  -19.95\n",
      "2                   H&M  -19.99\n",
      "3          VR-YHTYMÄ OY  -27.00\n",
      "4     STOCKMANN TAPIOLA  -53.40\n",
      "5            BESTSELLER  -79.99\n",
      "6      NISSEN ISO OMENA   -7.90\n",
      "7      PRISMA ISO OMENA  -34.66\n",
      "8          YA Iso Omena  -11.44\n",
      "9   ALEPA OTANIEMI UUSI  -14.56\n"
     ]
    }
   ],
   "source": [
    "real_data = df.get_df()\n",
    "X = real_data.iloc[:, [1, 2]]\n",
    "print('Shape of the X: ' + str(X.shape) + \" (Rows, Columns)\")\n",
    "print(X.head(10))"
   ]
  },
  {
   "cell_type": "markdown",
   "metadata": {},
   "source": [
    "# Validating classifier"
   ]
  },
  {
   "cell_type": "code",
   "execution_count": 8,
   "metadata": {},
   "outputs": [
    {
     "name": "stdout",
     "output_type": "stream",
     "text": [
      "\n",
      "\n",
      "\n",
      "     Date:                           Receiver:    Amount:     Prediction:\n",
      "2022-07-31                        VR-YHTYMÄ OY     -49.90       COMMUTING\n",
      "2022-07-28                DRESSMANN 707 KAMPPI     -19.95                \n",
      "2022-07-28                                 H&M     -19.99                \n",
      "2022-07-27                        VR-YHTYMÄ OY     -27.00       COMMUTING\n",
      "2022-07-27                   STOCKMANN TAPIOLA     -53.40                \n",
      "2022-07-25                          BESTSELLER     -79.99                \n",
      "2022-07-25                    NISSEN ISO OMENA      -7.90                \n",
      "2022-07-25                    PRISMA ISO OMENA     -34.66                \n",
      "2022-07-25                        YA Iso Omena     -11.44                \n",
      "2022-07-25                 ALEPA OTANIEMI UUSI     -14.56            FOOD\n",
      "2022-07-25            Compass Group Finland Oy      -2.70            FOOD\n",
      "2022-07-25                 ALEPA OTANIEMI UUSI      -6.25            FOOD\n",
      "2022-07-25                     AALTO TIETOTEKN      -2.70            FOOD\n",
      "2022-07-23                        PAYTRAIL OYJ    -114.00                \n",
      "2022-07-22                        PAYTRAIL OYJ     -50.00                \n",
      "2022-07-22                    SQUARESPACE INC.     -18.60                \n",
      "2022-07-19            Compass Group Finland Oy      -2.70            FOOD\n",
      "2022-07-19               K-supermarket Tapiola     -39.34                \n",
      "2022-07-19                             KABACKA     -23.40                \n",
      "2022-07-19           Galaxie Center & Waino Se      -3.80   ENTERTAINMENT\n",
      "2022-07-19           Galaxie Center & Waino Se      -2.00   ENTERTAINMENT\n",
      "2022-07-19           Galaxie Center & Waino Se      -6.40   ENTERTAINMENT\n",
      "2022-07-18           VFI*TMK Tori ja markkinak     -70.00 HOUSEHOLD ITEMS\n",
      "2022-07-18                          HOLY SMOKE      -9.50                \n",
      "2022-07-18                     SUSANNAN GRILLI      -8.00                \n",
      "2022-07-18              K-citymarket Kauhajoki      -5.98            FOOD\n",
      "2022-07-16                        VR-YHTYMÄ OY     -36.00       COMMUTING\n",
      "2022-07-13                ADOBE PHOTOGPHY PLAN     -12.39      TECHNOLOGY\n",
      "2022-07-11           0448 NESTE HEINOLA VIERUM      -9.60                \n",
      "2022-07-11                           SEO Jaala     -20.00                \n",
      "2022-07-07              VFI*Teknologforeningen      -2.70            FOOD\n",
      "2022-07-07               R AALTOYO METROKESKUS      -1.70            FOOD\n",
      "2022-07-07           Avecra Oy Stop at station      -7.90                \n",
      "2022-07-06    Aalto-yliopiston ylioppilaskunta    -396.91          LIVING\n",
      "2022-07-04                        VR-YHTYMÄ OY      -7.20       COMMUTING\n",
      "2022-07-04                             DNA Oyj     -18.90                \n",
      "2022-07-04                          SuitSupply   -1025.00                \n",
      "2022-07-04                Nintendo CA778475780     -18.99                \n",
      "2022-07-04           K-CITYMARKET HELSINKI RUO     -64.28                \n",
      "2022-07-01           NETFLIX INTERNATIONAL B.V     -15.99                \n",
      "2022-06-30                        PAYTRAIL OYJ     -50.00                \n",
      "2022-06-29                 ALEPA OTANIEMI UUSI     -29.00            FOOD\n",
      "2022-06-29                     KOTIPIZZA ISO-O     -18.10                \n",
      "2022-06-27     MOBILEPAY KALLE HERMAN KEINONEN     400.00    OTHER INCOME\n",
      "2022-06-27                           KLARNA AB     -62.90                \n",
      "2022-06-27                         HSL Mobiili      -2.50       COMMUTING\n",
      "2022-06-27                 ALEPA OTANIEMI UUSI      -2.90            FOOD\n",
      "2022-06-27                        YA Iso Omena      -5.80                \n",
      "2022-06-27              Subway 57389 Espoo Iso      -9.80                \n",
      "2022-06-27              VFI*Teknologforeningen      -2.90            FOOD\n",
      "2022-06-23           K-citymarket Espoo Leppav      -2.65            FOOD\n",
      "2022-06-21               PARTIOAITTA ISO OMENA     -56.95                \n",
      "2022-06-21                         HSL Mobiili      -2.50       COMMUTING\n",
      "2022-06-21           K-CITYMARKET ESPOO ISO OM     -48.39            FOOD\n",
      "2022-06-21                         HSL Mobiili      -2.50       COMMUTING\n",
      "2022-06-20                        PAYTRAIL OYJ     -50.00                \n",
      "2022-06-20                           MOBILEPAY      -9.90                \n",
      "2022-06-20               R AALTOYO METROKESKUS      -1.70            FOOD\n",
      "2022-06-20                 ALEPA OTANIEMI UUSI      -8.19            FOOD\n",
      "2022-06-14                        PAYTRAIL OYJ    -156.30                \n",
      "2022-06-14                       DRESSMANN 740     -29.95        CLOTHING\n",
      "2022-06-14                    STARSHIP ESTONIA      -3.57            FOOD\n",
      "2022-06-13               PARTIOAITTA ISO OMENA    -239.70                \n",
      "2022-06-13               LIDL ESPOO-LAAJALAHTI      -1.95            FOOD\n",
      "2022-06-13                    PRISMA ISO OMENA     -38.87                \n",
      "2022-06-13                      STADIUM OUTLET     -29.99         HOBBIES\n",
      "2022-06-13                      STADIUM OUTLET    -109.97         HOBBIES\n",
      "2022-06-13                ADOBE PHOTOGPHY PLAN     -12.39      TECHNOLOGY\n",
      "2022-06-13           Bestseller AS JJ-VM_FI_40     -39.99        CLOTHING\n",
      "2022-06-13                     XXL FIN 704 KLU     -65.97                \n",
      "2022-06-13            Compass Group Finland Oy      -2.70            FOOD\n",
      "2022-06-11                    TRUSTLY GROUP AB     -44.89                \n",
      "2022-07-31                        VR-YHTYMÄ OY     -49.90       COMMUTING\n",
      "2022-07-28                DRESSMANN 707 KAMPPI     -19.95                \n",
      "2022-07-28                                 H&M     -19.99                \n",
      "2022-07-27                        VR-YHTYMÄ OY     -27.00       COMMUTING\n",
      "2022-07-27                   STOCKMANN TAPIOLA     -53.40                \n",
      "2022-07-25                          BESTSELLER     -79.99                \n",
      "2022-07-25                    NISSEN ISO OMENA      -7.90                \n",
      "2022-07-25                    PRISMA ISO OMENA     -34.66                \n",
      "2022-07-25                        YA Iso Omena     -11.44                \n",
      "2022-07-25                 ALEPA OTANIEMI UUSI     -14.56            FOOD\n",
      "2022-07-25            Compass Group Finland Oy      -2.70            FOOD\n",
      "2022-07-25                 ALEPA OTANIEMI UUSI      -6.25            FOOD\n",
      "2022-07-25                     AALTO TIETOTEKN      -2.70            FOOD\n",
      "2022-07-23                        PAYTRAIL OYJ    -114.00                \n",
      "2022-07-22                        PAYTRAIL OYJ     -50.00                \n",
      "2022-07-22                    SQUARESPACE INC.     -18.60                \n",
      "2022-07-19            Compass Group Finland Oy      -2.70            FOOD\n",
      "2022-07-19               K-supermarket Tapiola     -39.34                \n",
      "2022-07-19                             KABACKA     -23.40                \n",
      "2022-07-19           Galaxie Center & Waino Se      -3.80   ENTERTAINMENT\n",
      "2022-07-19           Galaxie Center & Waino Se      -2.00   ENTERTAINMENT\n",
      "2022-07-19           Galaxie Center & Waino Se      -6.40   ENTERTAINMENT\n",
      "2022-07-18           VFI*TMK Tori ja markkinak     -70.00 HOUSEHOLD ITEMS\n",
      "2022-07-18                          HOLY SMOKE      -9.50                \n",
      "2022-07-18                     SUSANNAN GRILLI      -8.00                \n",
      "2022-07-18              K-citymarket Kauhajoki      -5.98            FOOD\n",
      "2022-07-16                        VR-YHTYMÄ OY     -36.00       COMMUTING\n",
      "2022-07-13                ADOBE PHOTOGPHY PLAN     -12.39      TECHNOLOGY\n",
      "2022-07-11           0448 NESTE HEINOLA VIERUM      -9.60                \n",
      "2022-07-11                           SEO Jaala     -20.00                \n",
      "2022-07-07              VFI*Teknologforeningen      -2.70            FOOD\n",
      "2022-07-07               R AALTOYO METROKESKUS      -1.70            FOOD\n",
      "2022-07-07           Avecra Oy Stop at station      -7.90                \n",
      "2022-07-06    Aalto-yliopiston ylioppilaskunta    -396.91          LIVING\n",
      "2022-07-04                        VR-YHTYMÄ OY      -7.20       COMMUTING\n",
      "2022-07-04                             DNA Oyj     -18.90                \n",
      "2022-07-04                          SuitSupply   -1025.00                \n",
      "2022-07-04                Nintendo CA778475780     -18.99                \n",
      "2022-07-04           K-CITYMARKET HELSINKI RUO     -64.28                \n",
      "2022-07-01           NETFLIX INTERNATIONAL B.V     -15.99                \n",
      "2022-06-30                        PAYTRAIL OYJ     -50.00                \n",
      "2022-06-29                 ALEPA OTANIEMI UUSI     -29.00            FOOD\n",
      "2022-06-29                     KOTIPIZZA ISO-O     -18.10                \n",
      "2022-06-27     MOBILEPAY KALLE HERMAN KEINONEN     400.00    OTHER INCOME\n",
      "2022-06-27                           KLARNA AB     -62.90                \n",
      "2022-06-27                         HSL Mobiili      -2.50       COMMUTING\n",
      "2022-06-27                 ALEPA OTANIEMI UUSI      -2.90            FOOD\n",
      "2022-06-27                        YA Iso Omena      -5.80                \n",
      "2022-06-27              Subway 57389 Espoo Iso      -9.80                \n",
      "2022-06-27              VFI*Teknologforeningen      -2.90            FOOD\n",
      "2022-06-23           K-citymarket Espoo Leppav      -2.65            FOOD\n",
      "2022-06-21               PARTIOAITTA ISO OMENA     -56.95                \n",
      "2022-06-21                         HSL Mobiili      -2.50       COMMUTING\n",
      "2022-06-21           K-CITYMARKET ESPOO ISO OM     -48.39            FOOD\n",
      "2022-06-21                         HSL Mobiili      -2.50       COMMUTING\n",
      "2022-06-20                        PAYTRAIL OYJ     -50.00                \n",
      "2022-06-20                           MOBILEPAY      -9.90                \n",
      "2022-06-20               R AALTOYO METROKESKUS      -1.70            FOOD\n",
      "2022-06-20                 ALEPA OTANIEMI UUSI      -8.19            FOOD\n",
      "2022-06-14                        PAYTRAIL OYJ    -156.30                \n",
      "2022-06-14                       DRESSMANN 740     -29.95        CLOTHING\n",
      "2022-06-14                    STARSHIP ESTONIA      -3.57            FOOD\n",
      "2022-06-13               PARTIOAITTA ISO OMENA    -239.70                \n",
      "2022-06-13               LIDL ESPOO-LAAJALAHTI      -1.95            FOOD\n",
      "2022-06-13                    PRISMA ISO OMENA     -38.87                \n",
      "2022-06-13                      STADIUM OUTLET     -29.99         HOBBIES\n",
      "2022-06-13                      STADIUM OUTLET    -109.97         HOBBIES\n",
      "2022-06-13                ADOBE PHOTOGPHY PLAN     -12.39      TECHNOLOGY\n",
      "2022-06-13           Bestseller AS JJ-VM_FI_40     -39.99        CLOTHING\n",
      "2022-06-13                     XXL FIN 704 KLU     -65.97                \n",
      "2022-06-13            Compass Group Finland Oy      -2.70            FOOD\n",
      "2022-06-11                    TRUSTLY GROUP AB     -44.89                \n",
      "\n",
      "\n",
      "Predicted: 144 cases and threshold was: 0.8\n",
      "Total running time of predictions: 0.018431 seconds.\n"
     ]
    }
   ],
   "source": [
    "start   = timeit.default_timer()\n",
    "y_pred  = model_pipeline.predict(X)\n",
    "probas  = model_pipeline.predict_proba(X)\n",
    "stop    = timeit.default_timer()\n",
    "\n",
    "print(\"\\n\\n\")\n",
    "print(\"     Date:                           Receiver:    Amount:     Prediction:\")\n",
    "\n",
    "for i in range(len(y_pred)):    \n",
    "    category = y_pred[i]\n",
    "    if probas[i].max() < LIMIT:\n",
    "        category = \" \"   \n",
    "    print(\"%10s %35s %10.2f %15s\" % (real_data.iloc[i][0], \n",
    "                                     real_data.iloc[i][1], \n",
    "                                     real_data.iloc[i][2], \n",
    "                                     category))\n",
    "    \n",
    "print(\"\\n\\nPredicted: {:d} cases and threshold was: {:0.1f}\".format(len(y_pred), LIMIT))\n",
    "print(\"Total running time of predictions: {:f} seconds.\".format(stop - start))"
   ]
  }
 ],
 "metadata": {
  "kernelspec": {
   "display_name": "Python 3.9.15 ('ai_finance_x86')",
   "language": "python",
   "name": "python3"
  },
  "language_info": {
   "codemirror_mode": {
    "name": "ipython",
    "version": 3
   },
   "file_extension": ".py",
   "mimetype": "text/x-python",
   "name": "python",
   "nbconvert_exporter": "python",
   "pygments_lexer": "ipython3",
   "version": "3.9.15"
  },
  "orig_nbformat": 4,
  "vscode": {
   "interpreter": {
    "hash": "a94b271ce7875643f624cf0c8e211b38af397ec4b955d74115721ac9a19f894f"
   }
  }
 },
 "nbformat": 4,
 "nbformat_minor": 2
}
